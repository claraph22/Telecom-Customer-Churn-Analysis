{
  "cells": [
    {
      "cell_type": "markdown",
      "metadata": {
        "id": "w3UP3sAn1xvf"
      },
      "source": [
        "# Import Libraries"
      ]
    },
    {
      "cell_type": "code",
      "execution_count": null,
      "metadata": {
        "id": "4EcN_cDP1eqf"
      },
      "outputs": [],
      "source": [
        "import pandas as pd\n",
        "import pickle\n",
        "import joblib"
      ]
    },
    {
      "cell_type": "markdown",
      "metadata": {
        "id": "-W5d_L6B12wO"
      },
      "source": [
        "# Load Model"
      ]
    },
    {
      "cell_type": "code",
      "execution_count": null,
      "metadata": {
        "id": "WTMbAA391-OM"
      },
      "outputs": [],
      "source": [
        "with open('pipeline_model.pkl', 'rb') as file_1:\n",
        "    pipeline_model = pickle.load(file_1)"
      ]
    },
    {
      "cell_type": "code",
      "execution_count": null,
      "metadata": {
        "id": "Zce6_oLe9aqP"
      },
      "outputs": [],
      "source": [
        "with open('/path/to/your/file/pipeline_model.pkl', 'rb') as file_1:\n",
        "    pipeline_model = pickle.load(file_1)"
      ]
    },
    {
      "cell_type": "markdown",
      "metadata": {
        "id": "jnr5VzPO2Gvc"
      },
      "source": [
        "# Crate data Inferace"
      ]
    },
    {
      "cell_type": "code",
      "execution_count": null,
      "metadata": {
        "id": "EmAoS4W22F7o"
      },
      "outputs": [],
      "source": [
        "df_inf = pd.DataFrame ([{\n",
        "  'SeniorCitizen' : 0.36\n",
        "}])"
      ]
    },
    {
      "cell_type": "code",
      "execution_count": null,
      "metadata": {
        "id": "PM07U5ki3xnU"
      },
      "outputs": [],
      "source": [
        "import pandas as pd # Import the pandas library and give it the alias 'pd'\n",
        "\n",
        "df_inf = pd.DataFrame ([{\n",
        "  'tenure' : 72.00,\n",
        "  'MonthlyCharges' : 118.75,\n",
        "  'TotalCharges':8684.80\n",
        "}])"
      ]
    },
    {
      "cell_type": "code",
      "execution_count": null,
      "metadata": {
        "id": "ZcpciAYz3rxO"
      },
      "outputs": [],
      "source": [
        "df_inf"
      ]
    }
  ],
  "metadata": {
    "colab": {
      "private_outputs": true,
      "provenance": []
    },
    "kernelspec": {
      "display_name": "Python 3",
      "name": "python3"
    },
    "language_info": {
      "name": "python"
    }
  },
  "nbformat": 4,
  "nbformat_minor": 0
}
